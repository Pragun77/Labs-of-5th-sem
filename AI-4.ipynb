{
 "cells": [
  {
   "cell_type": "code",
   "execution_count": 3,
   "metadata": {},
   "outputs": [
    {
     "name": "stdout",
     "output_type": "stream",
     "text": [
      " .  Q  .  . \n",
      " .  .  .  Q \n",
      " Q  .  .  . \n",
      " .  .  Q  . \n",
      " .  .  Q  . \n",
      " Q  .  .  . \n",
      " .  .  .  Q \n",
      " .  Q  .  . \n"
     ]
    }
   ],
   "source": [
    "#4 queen algorithm using A* algo\n",
    "\n",
    "x = int(input(\"Enter Board Matrix: \"))\n",
    "\n",
    "def printSolution(board):\n",
    "    for i in range(x):\n",
    "        for j in range(x):\n",
    "            print(\" Q \" if board[i][j] == 1 else \" . \", end=\"\")\n",
    "        print()\n",
    "            \n",
    "    \n",
    "\n",
    "def is_safe(board,row,col):\n",
    "    for i in range(row):\n",
    "        if board[i][col] == 1:\n",
    "            return False\n",
    "        \n",
    "    for i,j in zip(range(row, -1, -1) , range(col, -1,-1)):\n",
    "        if board[i][j] == 1:\n",
    "            return False\n",
    "    \n",
    "    for i,j in zip(range(row, x, 1) , range(col, -1,-1)):\n",
    "        if board[i][j] == 1:\n",
    "            return False\n",
    "    \n",
    "    for i, j in zip(range(row, -1, -1), range(col , x ,1)):\n",
    "        if board[i][j] == 1:\n",
    "            return False\n",
    "    \n",
    "    for i, j in zip(range(row, x, 1), range(col , x ,1)):\n",
    "        if board[i][j] == 1:\n",
    "            return False\n",
    "\n",
    "    return True\n",
    "\n",
    "def solve_queen(board, row):\n",
    "    if row == len(board):\n",
    "        printSolution(board)\n",
    "        return True\n",
    "\n",
    "    found_solution = False\n",
    "\n",
    "    for col in range(len(board)):\n",
    "        if is_safe(board, row, col):\n",
    "            board[row][col] = 1\n",
    "            found_solution |= solve_queen(board, row + 1)\n",
    "            board[row][col] = 0\n",
    "\n",
    "    return found_solution\n",
    "\n",
    "def solve_all_queens(x):\n",
    "    board = [[0 for _ in range(x)] for _ in range(x)]\n",
    "    solutions_found = solve_queen(board, 0)\n",
    "    \n",
    "    if not solutions_found:\n",
    "        print(\"No solutions found\")\n",
    "\n",
    "if __name__ == \"__main__\":\n",
    "    x = int(input(\"Enter the board size: \"))\n",
    "    solve_all_queens(x)\n"
   ]
  }
 ],
 "metadata": {
  "kernelspec": {
   "display_name": "Python 3",
   "language": "python",
   "name": "python3"
  },
  "language_info": {
   "codemirror_mode": {
    "name": "ipython",
    "version": 3
   },
   "file_extension": ".py",
   "mimetype": "text/x-python",
   "name": "python",
   "nbconvert_exporter": "python",
   "pygments_lexer": "ipython3",
   "version": "3.8.10"
  },
  "orig_nbformat": 4
 },
 "nbformat": 4,
 "nbformat_minor": 2
}
