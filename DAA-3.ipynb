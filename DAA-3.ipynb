{
 "cells": [
  {
   "cell_type": "code",
   "execution_count": 6,
   "metadata": {},
   "outputs": [
    {
     "name": "stdout",
     "output_type": "stream",
     "text": [
      "Maximum value: 47\n"
     ]
    }
   ],
   "source": [
    "def knapsack_01(values, weights, capacity):\n",
    "    n = len(values)\n",
    "    dp = [[0 for _ in range(capacity + 1)] for _ in range(n + 1)]\n",
    "\n",
    "    for i in range(1, n + 1):\n",
    "        for w in range(1, capacity + 1):\n",
    "            if weights[i - 1] <= w:\n",
    "                dp[i][w] = max(dp[i - 1][w], dp[i - 1][w - weights[i - 1]] + values[i - 1])\n",
    "            else:\n",
    "                dp[i][w] = dp[i - 1][w]\n",
    "\n",
    "    # Now, dp[n][capacity] contains the maximum value achievable\n",
    "    return dp[n][capacity]\n",
    "\n",
    "# Example usage:\n",
    "values = [12, 10, 20, 15]\n",
    "weights = [2, 5, 3, 4]\n",
    "capacity = 10\n",
    "max_value = knapsack_01(values, weights, capacity)\n",
    "print(\"Maximum value:\", max_value)"
   ]
  },
  {
   "cell_type": "code",
   "execution_count": 2,
   "metadata": {},
   "outputs": [
    {
     "name": "stdout",
     "output_type": "stream",
     "text": [
      "Maximum profit: 51.0\n"
     ]
    }
   ],
   "source": [
    "def knapsack_profit_to_weight(profit, weights, capacity):\n",
    "    n = len(profit)\n",
    "    profit_per_weight = [(profit[i] / weights[i], profit[i], weights[i]) for i in range(n)]\n",
    "    profit_per_weight.sort(reverse=True)\n",
    "\n",
    "    max_profit = 0.0\n",
    "\n",
    "    for item in profit_per_weight:\n",
    "        if capacity >= item[2]:\n",
    "            max_profit += item[1]\n",
    "            capacity -= item[2]\n",
    "        else:\n",
    "            max_profit += (capacity / item[2]) * item[1]\n",
    "            break\n",
    "\n",
    "    return max_profit\n",
    "\n",
    "# Example usage:\n",
    "profit = [12, 10, 20, 15]\n",
    "weights = [1, 5, 3, 4]\n",
    "capacity = 10\n",
    "max_profit = knapsack_profit_to_weight(profit, weights, capacity)\n",
    "print(\"Maximum profit:\", max_profit)\n",
    "\n"
   ]
  }
 ],
 "metadata": {
  "kernelspec": {
   "display_name": "Python 3",
   "language": "python",
   "name": "python3"
  },
  "language_info": {
   "codemirror_mode": {
    "name": "ipython",
    "version": 3
   },
   "file_extension": ".py",
   "mimetype": "text/x-python",
   "name": "python",
   "nbconvert_exporter": "python",
   "pygments_lexer": "ipython3",
   "version": "3.8.10"
  },
  "orig_nbformat": 4
 },
 "nbformat": 4,
 "nbformat_minor": 2
}
