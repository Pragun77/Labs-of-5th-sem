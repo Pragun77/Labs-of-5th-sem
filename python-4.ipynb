{
 "cells": [
  {
   "cell_type": "code",
   "execution_count": 2,
   "metadata": {},
   "outputs": [
    {
     "name": "stdout",
     "output_type": "stream",
     "text": [
      "Hockey Players: {'Player2', 'Player1', 'Player3'}\n",
      "Javelin Throw Players: {'Player4', 'Player5', 'Player6'}\n"
     ]
    }
   ],
   "source": [
    "#17 a) Maintain two sets with record of names of players of Hockey and Javelin Throw.\n",
    "#Program-17\n",
    "#Pragun Gupta UE218072\n",
    "\n",
    "hockey_players = set()\n",
    "javelin_throw_players = set()\n",
    "\n",
    "hockey_players.add(\"Player1\")\n",
    "hockey_players.add(\"Player2\")\n",
    "hockey_players.add(\"Player3\")\n",
    "\n",
    "javelin_throw_players.add(\"Player4\")\n",
    "javelin_throw_players.add(\"Player5\")\n",
    "javelin_throw_players.add(\"Player6\")\n",
    "\n",
    "print(\"Hockey Players:\", hockey_players)\n",
    "print(\"Javelin Throw Players:\", javelin_throw_players)"
   ]
  },
  {
   "cell_type": "code",
   "execution_count": null,
   "metadata": {},
   "outputs": [],
   "source": [
    "#18 WAP to read one file and write its contents into another file.\n",
    "#Program-18\n",
    "#Pragun Gupta UE218072\n",
    "\n",
    "source_file_name = \"source.txt\"\n",
    "destination_file_name = \"destination.txt\"  \n",
    "try:\n",
    "\n",
    "    with open(source_file_name, \"r\") as source_file:\n",
    "        file_contents = source_file.read()\n",
    "\n",
    "    with open(destination_file_name, \"w\") as destination_file:\n",
    "        destination_file.write(file_contents)\n",
    "\n",
    "    print(f\"Contents from '{source_file_name}' have been copied to '{destination_file_name}'.\")\n",
    "\n",
    "except FileNotFoundError:\n",
    "    print(\"One of the files does not exist.\")\n",
    "except Exception as e:\n",
    "    print(\"An error occurred:\", str(e))\n"
   ]
  },
  {
   "cell_type": "code",
   "execution_count": null,
   "metadata": {},
   "outputs": [],
   "source": [
    "#19 Write a python program to read two files and write their contents into a third file.\n",
    "#Program-19\n",
    "#Pragun Gupta UE218072\n",
    "\n",
    "source_file1 = \"source1.txt\"  \n",
    "source_file2 = \"source2.txt\"  \n",
    "\n",
    "destination_file = \"destination.txt\" \n",
    "\n",
    "try:\n",
    "\n",
    "    with open(source_file1, \"r\") as file1:\n",
    "        file1_contents = file1.read()\n",
    "\n",
    "\n",
    "    with open(source_file2, \"r\") as file2:\n",
    "        file2_contents = file2.read()\n",
    "\n",
    "\n",
    "    with open(destination_file, \"w\") as dest_file:\n",
    "        dest_file.write(file1_contents)\n",
    "        dest_file.write(\"\\n\") \n",
    "        dest_file.write(file2_contents)\n",
    "\n",
    "    print(f\"Contents from '{source_file1}' and '{source_file2}' have been copied to '{destination_file}'.\")\n",
    "\n",
    "except FileNotFoundError:\n",
    "    print(\"One or more of the source files do not exist.\")\n",
    "except Exception as e:\n",
    "    print(\"An error occurred:\", str(e))\n"
   ]
  }
 ],
 "metadata": {
  "kernelspec": {
   "display_name": "Python 3",
   "language": "python",
   "name": "python3"
  },
  "language_info": {
   "codemirror_mode": {
    "name": "ipython",
    "version": 3
   },
   "file_extension": ".py",
   "mimetype": "text/x-python",
   "name": "python",
   "nbconvert_exporter": "python",
   "pygments_lexer": "ipython3",
   "version": "3.8.10"
  }
 },
 "nbformat": 4,
 "nbformat_minor": 2
}
