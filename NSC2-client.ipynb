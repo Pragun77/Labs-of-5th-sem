{
 "cells": [
  {
   "cell_type": "code",
   "execution_count": 3,
   "metadata": {},
   "outputs": [],
   "source": [
    "import socket\n",
    "\n",
    "def caeser_encrypt(plaintext, shift):\n",
    "    ciphertext= \"\"\n",
    "    \n",
    "    for i in range(len(plaintext)):\n",
    "        char = plaintext[i]\n",
    "        if(char.isupper()):\n",
    "            ciphertext += chr((ord(char) +shift - 65)%26 +65)\n",
    "        else:\n",
    "            ciphertext += chr((ord(char) +  shift -97)%26 +97)\n",
    "            \n",
    "    return ciphertext\n",
    "\n",
    "def main():\n",
    "    host = '127.0.0.1'\n",
    "    port = 12345\n",
    "    client_socket = socket.socket(socket.AF_INET,socket.SOCK_STREAM)\n",
    "    client_socket.connect((host,port))\n",
    "    \n",
    "    plaintext = input('Enter Your Plaintext: ')\n",
    "    shift = 4\n",
    "    \n",
    "    encrypted_text = caeser_encrypt(plaintext,shift)\n",
    "    client_socket.send(encrypted_text.encode())\n",
    "    client_socket.close()\n",
    "    \n",
    "if __name__ == '__main__':\n",
    "    main()"
   ]
  }
 ],
 "metadata": {
  "kernelspec": {
   "display_name": "Python 3",
   "language": "python",
   "name": "python3"
  },
  "language_info": {
   "codemirror_mode": {
    "name": "ipython",
    "version": 3
   },
   "file_extension": ".py",
   "mimetype": "text/x-python",
   "name": "python",
   "nbconvert_exporter": "python",
   "pygments_lexer": "ipython3",
   "version": "3.8.10"
  },
  "orig_nbformat": 4
 },
 "nbformat": 4,
 "nbformat_minor": 2
}
