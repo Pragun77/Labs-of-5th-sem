{
 "cells": [
  {
   "cell_type": "code",
   "execution_count": 16,
   "metadata": {},
   "outputs": [
    {
     "name": "stdout",
     "output_type": "stream",
     "text": [
      "[0, 6, 12, 15]\n"
     ]
    }
   ],
   "source": [
    "#WAP to find occurences of a substring from a given string\n",
    "#Program -13\n",
    "# Pragun Gupta UE218072\n",
    "def find_occ(string:str, substring:str):\n",
    "    index = []\n",
    "    i = 0\n",
    "    while True:\n",
    "        j = string.find(substring,i)\n",
    "        \n",
    "        if j == -1:\n",
    "            break\n",
    "        index.append(j)\n",
    "        i  = j + 1\n",
    "    return index\n",
    "        \n",
    "print(find_occ('hello honey hi how' , 'h'))"
   ]
  },
  {
   "cell_type": "code",
   "execution_count": 22,
   "metadata": {},
   "outputs": [
    {
     "name": "stdout",
     "output_type": "stream",
     "text": [
      "([0, 6, 12, 15], 4)\n"
     ]
    }
   ],
   "source": [
    "#WAP to find position and count of occurrences of a character/substring\n",
    "# (few characters of a word but not complete word) from a given string.\n",
    "#Program -14\n",
    "# Pragun Gupta UE218072\n",
    "def find_occ_count(string:str, substring:str):\n",
    "    index = []\n",
    "    i = 0\n",
    "    while True:\n",
    "        j = string.find(substring,i)\n",
    "        \n",
    "        if j == -1:\n",
    "            break\n",
    "        index.append(j)\n",
    "        i  = j + 1\n",
    "    return index, index.__len__()\n",
    "\n",
    "print(find_occ_count('hello honey hi how' , 'h'))"
   ]
  },
  {
   "cell_type": "code",
   "execution_count": 39,
   "metadata": {},
   "outputs": [
    {
     "data": {
      "text/plain": [
       "9998887776"
      ]
     },
     "execution_count": 39,
     "metadata": {},
     "output_type": "execute_result"
    }
   ],
   "source": [
    "#Create two tuples of names and contact numbers using python. Create a phonebook from these two tuples in such a way so that a contact number can be searched using name directly.\n",
    "#Program -15\n",
    "# Pragun Gupta UE218072\n",
    "Phonebook = []\n",
    "Names = ('Pragun', 'Pranav', 'Kunal')\n",
    "Contacts = (9998887776, 6665554443, 3332221110)\n",
    "\n",
    "for i,j in zip(Names, Contacts):\n",
    "    Info = (i,j)\n",
    "    Phonebook.append(Info)\n",
    "\n",
    "def find_contacts( arr:list, Name:str):\n",
    "    for i in range(len(arr)):\n",
    "        if arr[i][0] == Name:\n",
    "            return arr[i][1]\n",
    "\n",
    "find_contacts(Phonebook, 'Pragun')"
   ]
  },
  {
   "cell_type": "code",
   "execution_count": 43,
   "metadata": {},
   "outputs": [
    {
     "name": "stdout",
     "output_type": "stream",
     "text": [
      "('Pragun', 3452)\n",
      "('Pranav', 5432)\n"
     ]
    }
   ],
   "source": [
    "#16 a) Use concept of dictionaries in python programming and make a record of Airline passenger list (Name, Ticket number).\n",
    "#Program - 16\n",
    "# Pragun Gupta UE218072\n",
    "\n",
    "class Airline:\n",
    "    def __init__(self) -> None:\n",
    "        self.Passengers_Dict ={\n",
    "            \n",
    "        }\n",
    "  \n",
    "        \n",
    "    def add_passengers(self,id : int,  name, ticket_no):\n",
    "        self.Passengers_Dict.update({id: (name, ticket_no)})\n",
    "        return print(self.Passengers_Dict[id])\n",
    "        \n",
    "        \n",
    "SpiceJet = Airline()\n",
    "SpiceJet.add_passengers(1, 'Pragun', 3452)\n",
    "SpiceJet.add_passengers(2,'Pranav', 5432)\n",
    "\n",
    "        \n",
    "        \n",
    "\n",
    "        "
   ]
  }
 ],
 "metadata": {
  "kernelspec": {
   "display_name": "Python 3",
   "language": "python",
   "name": "python3"
  },
  "language_info": {
   "codemirror_mode": {
    "name": "ipython",
    "version": 3
   },
   "file_extension": ".py",
   "mimetype": "text/x-python",
   "name": "python",
   "nbconvert_exporter": "python",
   "pygments_lexer": "ipython3",
   "version": "3.8.10"
  },
  "orig_nbformat": 4
 },
 "nbformat": 4,
 "nbformat_minor": 2
}
