{
 "cells": [
  {
   "cell_type": "code",
   "execution_count": 2,
   "metadata": {},
   "outputs": [
    {
     "name": "stdout",
     "output_type": "stream",
     "text": [
      "Server is listening on 127.0.0.1:12345\n",
      "Connection from: ('127.0.0.1', 63833)\n",
      "Recevied Ciphertext: lipps\n",
      "Decypted Plaintext: hello\n"
     ]
    }
   ],
   "source": [
    "import socket\n",
    "\n",
    "def caeser_decrypt(ciphertext, shift):\n",
    "    plaintext = \"\"\n",
    "    \n",
    "    for i in range(len(ciphertext)):\n",
    "        char = ciphertext[i]\n",
    "        if(char.isupper()):\n",
    "            plaintext += chr((ord(char) - shift -65 )%26 + 65)\n",
    "            \n",
    "        else:\n",
    "            plaintext += chr((ord(char) - shift -97 )%26 +97)\n",
    "            \n",
    "    return plaintext\n",
    "\n",
    "def main():\n",
    "    \n",
    "    host = '127.0.0.1'\n",
    "    port  = 12345\n",
    "    \n",
    "    server_socket = socket.socket(socket.AF_INET, socket.SOCK_STREAM)\n",
    "    server_socket.bind((host,port))\n",
    "    server_socket.listen(1)\n",
    "    print(f'Server is listening on {host}:{port}')\n",
    "    \n",
    "    conn, addr = server_socket.accept()\n",
    "    print(f'Connection from: {addr}')\n",
    "    ciphertext = conn.recv(1024).decode()\n",
    "    shift = 4 \n",
    "    \n",
    "    decrypted_text = caeser_decrypt(ciphertext, shift)\n",
    "    print(f'Recevied Ciphertext: {ciphertext}')\n",
    "    print(f'Decypted Plaintext: {decrypted_text}')\n",
    "    \n",
    "    conn.close()\n",
    "    \n",
    "if __name__ == '__main__':\n",
    "    main()"
   ]
  }
 ],
 "metadata": {
  "kernelspec": {
   "display_name": "Python 3",
   "language": "python",
   "name": "python3"
  },
  "language_info": {
   "codemirror_mode": {
    "name": "ipython",
    "version": 3
   },
   "file_extension": ".py",
   "mimetype": "text/x-python",
   "name": "python",
   "nbconvert_exporter": "python",
   "pygments_lexer": "ipython3",
   "version": "3.8.10"
  },
  "orig_nbformat": 4
 },
 "nbformat": 4,
 "nbformat_minor": 2
}
