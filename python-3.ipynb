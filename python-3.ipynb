{
 "cells": [
  {
   "cell_type": "code",
   "execution_count": 11,
   "metadata": {},
   "outputs": [
    {
     "name": "stdout",
     "output_type": "stream",
     "text": [
      "236 472 708 1180 1888 3068 4956 8024 12980 21004 "
     ]
    }
   ],
   "source": [
    "#WAP to generate and display Fibonacci sequence (first ten terms).\n",
    "#Program -7 \n",
    "# Pragun Gupta UE218072\n",
    "import random\n",
    "n = 10\n",
    "num1 = random.randint(0,250)\n",
    "num2 = random.randint(0,250)\n",
    "next_number = num2\n",
    "count = 1\n",
    " \n",
    "while count <= n:\n",
    "    print(next_number, end=\" \")\n",
    "    count += 1\n",
    "    num1, num2 = num2, next_number\n",
    "    next_number = num1 + num2\n",
    "\n",
    "        "
   ]
  },
  {
   "cell_type": "code",
   "execution_count": 15,
   "metadata": {},
   "outputs": [
    {
     "name": "stdout",
     "output_type": "stream",
     "text": [
      "Factorial of 10 is :3628800\n"
     ]
    }
   ],
   "source": [
    "#Write a python program to calculate factorial of a given number using math library.\n",
    "#Program - 8\n",
    "# Pragun Gupta UE218072\n",
    "import math\n",
    "\n",
    "def fact(n:int):\n",
    "    print(f\"Factorial of {n} is : {math.factorial(n)}\")\n",
    "    \n",
    "if __name__ == \"__main__\":\n",
    "    n = int(input(\"Enter Your number: \"))\n",
    "    fact(n)\n",
    "    "
   ]
  },
  {
   "cell_type": "code",
   "execution_count": 17,
   "metadata": {},
   "outputs": [
    {
     "name": "stdout",
     "output_type": "stream",
     "text": [
      "55\n"
     ]
    }
   ],
   "source": [
    "#WAP to find sum of all natural numbers between 1 to n using recursion.\n",
    "#Program - 9\n",
    "# Pragun Gupta UE218072\n",
    "def summ(n):\n",
    "    if n<= 1:\n",
    "        return n\n",
    "    return n + summ(n-1)\n",
    "\n",
    "if __name__ == \"__main__\":\n",
    "    n = int(input(\"Enter Your number: \"))\n",
    "    print(summ(n))"
   ]
  },
  {
   "cell_type": "code",
   "execution_count": 19,
   "metadata": {},
   "outputs": [
    {
     "name": "stdout",
     "output_type": "stream",
     "text": [
      "The original Number = 4321\n",
      "The reversed number = 1234\n"
     ]
    }
   ],
   "source": [
    "#Write a python program to find reverse of a given number.\n",
    "#Program - 10\n",
    "# Pragun Gupta UE218072\n",
    "given_num = int(input(\"Enter Your Number: \"))\n",
    "\n",
    "reverse_string = \"\"\n",
    "\n",
    "strnum = str(given_num)\n",
    "\n",
    "length = len(strnum)\n",
    "\n",
    "for index in range(length-1, -1, -1):\n",
    "\n",
    "    reverse_string = reverse_string+strnum[index]\n",
    "\n",
    "reverse_number = int(reverse_string)\n",
    "print(\"The original Number =\" , given_num)\n",
    "\n",
    "print(\"The reversed number =\", reverse_number)"
   ]
  },
  {
   "cell_type": "code",
   "execution_count": 23,
   "metadata": {},
   "outputs": [
    {
     "name": "stdout",
     "output_type": "stream",
     "text": [
      "Plain Text : CEASER CIPHER DEMO\n",
      "Shift pattern : 4\n",
      "Cipher: GIEWIVrGMTLIVrHIQS\n"
     ]
    }
   ],
   "source": [
    "#Write a program to generate Cipher text from Plain text using functions.\n",
    "#Program  - 11\n",
    "# Pragun Gupta UE218072\n",
    "def caeser_encrypt(plaintext, shift):\n",
    "    ciphertext= \"\"\n",
    "    \n",
    "    for i in range(len(plaintext)):\n",
    "        char = plaintext[i]\n",
    "        if(char.isupper()):\n",
    "            ciphertext += chr((ord(char) +shift - 65)%26 +65)\n",
    "        else:\n",
    "            ciphertext += chr((ord(char) +  shift -97)%26 +97)\n",
    "            \n",
    "    return ciphertext\n",
    "\n",
    "text = \"CEASER CIPHER DEMO\"\n",
    "s = 4\n",
    "\n",
    "print (\"Plain Text : \" + text)\n",
    "print (\"Shift pattern : \" + str(s))\n",
    "print (\"Cipher: \" + caeser_encrypt(text,s))"
   ]
  },
  {
   "cell_type": "code",
   "execution_count": 24,
   "metadata": {},
   "outputs": [
    {
     "name": "stdout",
     "output_type": "stream",
     "text": [
      "[12]\n"
     ]
    }
   ],
   "source": [
    "#WAP to find position of a substring in a given string.\n",
    "#Program-12\n",
    "# Pragun Gupta UE218072\n",
    "def find_sub(string:str, substring:str):\n",
    "    index = []\n",
    "    i = 0\n",
    "    while True:\n",
    "        j = string.find(substring,i)\n",
    "        \n",
    "        if j == -1:\n",
    "            break\n",
    "        index.append(j)\n",
    "        i  = j + 1\n",
    "    return index\n",
    "        \n",
    "print(find_sub('hello honey hi how' , 'hi'))"
   ]
  }
 ],
 "metadata": {
  "kernelspec": {
   "display_name": "Python 3",
   "language": "python",
   "name": "python3"
  },
  "language_info": {
   "codemirror_mode": {
    "name": "ipython",
    "version": 3
   },
   "file_extension": ".py",
   "mimetype": "text/x-python",
   "name": "python",
   "nbconvert_exporter": "python",
   "pygments_lexer": "ipython3",
   "version": "3.8.10"
  },
  "orig_nbformat": 4
 },
 "nbformat": 4,
 "nbformat_minor": 2
}
