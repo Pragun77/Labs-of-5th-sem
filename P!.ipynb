{
 "cells": [
  {
   "cell_type": "code",
   "execution_count": 4,
   "metadata": {},
   "outputs": [
    {
     "name": "stdout",
     "output_type": "stream",
     "text": [
      "x = 5\n",
      "y = 2\n",
      "2\n",
      "5\n",
      "5\n",
      "2\n",
      "False\n",
      "False\n"
     ]
    }
   ],
   "source": [
    "#Program 1\n",
    "#Write a program to perform logical AND, OR, and NAND operation\n",
    "# Pragun Gupta UE218072\n",
    "x = int(input(\"Enter 1st Number: \"))\n",
    "print(f'x = {x}')\n",
    "y = int(input(\"Enter 2nd Number: \"))\n",
    "print(f'y = {y}')\n",
    "\n",
    "print(x and y)\n",
    "print(y and x)  \n",
    "print(x or y)\n",
    "print(y or x)  \n",
    "print(not(x and y))\n",
    "print(not(y and x))  \n"
   ]
  },
  {
   "cell_type": "code",
   "execution_count": 1,
   "metadata": {},
   "outputs": [
    {
     "data": {
      "text/plain": [
       "3628800"
      ]
     },
     "execution_count": 1,
     "metadata": {},
     "output_type": "execute_result"
    }
   ],
   "source": [
    "#Program 2\n",
    "# WAP to find factorial of a number\n",
    "# Pragun Gupta UE218072\n",
    "x =10\n",
    "import math\n",
    "math.factorial(x)"
   ]
  },
  {
   "cell_type": "code",
   "execution_count": 6,
   "metadata": {},
   "outputs": [
    {
     "name": "stdout",
     "output_type": "stream",
     "text": [
      "5.7   2   5   2.0   (5.7+2j)   (5+2j)\n"
     ]
    }
   ],
   "source": [
    "#Program 3\n",
    "# WAP to perform number type conversions\n",
    "# Pragun Gupta UE218072\n",
    "a = float(input())\n",
    "b = int(input())\n",
    "\n",
    "c = int(a)\n",
    "d = float(b)\n",
    "\n",
    "e = complex(a,b)\n",
    "f = complex(c,d)\n",
    "\n",
    "print(a, ' ', b, ' ', c , ' ', d , ' ', e, ' ', f)"
   ]
  },
  {
   "cell_type": "code",
   "execution_count": 19,
   "metadata": {},
   "outputs": [
    {
     "name": "stdout",
     "output_type": "stream",
     "text": [
      "1.0\n",
      "1.0\n",
      "0.9999999999999999\n"
     ]
    }
   ],
   "source": [
    "#Program 4\n",
    "#WRITE A program to find sin,cos and tan of a given vaue in degrees\n",
    "# Pragun Gupta UE218072\n",
    "print(math.sin(math.radians(90)))\n",
    "print(math.cos(math.radians(0)))\n",
    "print(math.tan(math.radians(45)))\n"
   ]
  },
  {
   "cell_type": "code",
   "execution_count": 25,
   "metadata": {},
   "outputs": [
    {
     "name": "stdout",
     "output_type": "stream",
     "text": [
      "2\n",
      "4\n",
      "6\n",
      "8\n",
      "10\n",
      "12\n",
      "14\n",
      "16\n",
      "18\n",
      "20\n",
      "22\n",
      "24\n",
      "26\n",
      "28\n",
      "30\n",
      "32\n",
      "34\n",
      "36\n",
      "38\n",
      "40\n",
      "42\n",
      "44\n",
      "46\n",
      "48\n",
      "50\n",
      "52\n",
      "54\n",
      "56\n",
      "58\n",
      "60\n",
      "62\n",
      "64\n",
      "66\n",
      "68\n",
      "70\n",
      "72\n",
      "74\n",
      "76\n",
      "78\n",
      "80\n",
      "82\n",
      "84\n",
      "86\n",
      "88\n",
      "90\n",
      "92\n",
      "94\n",
      "96\n",
      "98\n",
      "100\n"
     ]
    }
   ],
   "source": [
    "#Program -5\n",
    "#WAP to display all the evne numbers from  1 to n\n",
    "# Pragun Gupta UE218072\n",
    "n = int(input(\"Enter the number : \"))\n",
    "for i in range(n+1):\n",
    "    if (i%2 == 0 and i != 0):\n",
    "        print(i)"
   ]
  },
  {
   "cell_type": "code",
   "execution_count": 15,
   "metadata": {},
   "outputs": [
    {
     "name": "stdout",
     "output_type": "stream",
     "text": [
      "product 6\n"
     ]
    }
   ],
   "source": [
    "#program -6\n",
    "#WAP to compute the product of digits of a given number\n",
    "# Pragun Gupta UE218072\n",
    "n = str(input(\"Enter the number: \"))\n",
    "product = 1\n",
    "for i,n  in enumerate(n):\n",
    "    product = product*int(n)\n",
    "print('product', product)"
   ]
  }
 ],
 "metadata": {
  "kernelspec": {
   "display_name": "Python 3",
   "language": "python",
   "name": "python3"
  },
  "language_info": {
   "codemirror_mode": {
    "name": "ipython",
    "version": 3
   },
   "file_extension": ".py",
   "mimetype": "text/x-python",
   "name": "python",
   "nbconvert_exporter": "python",
   "pygments_lexer": "ipython3",
   "version": "3.8.10"
  },
  "orig_nbformat": 4
 },
 "nbformat": 4,
 "nbformat_minor": 2
}
