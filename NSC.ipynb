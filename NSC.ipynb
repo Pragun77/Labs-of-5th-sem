{
 "cells": [
  {
   "cell_type": "code",
   "execution_count": null,
   "metadata": {},
   "outputs": [
    {
     "name": "stdout",
     "output_type": "stream",
     "text": [
      "Socket successfully created\n",
      "the socket has successfully connected to google\n"
     ]
    }
   ],
   "source": [
    "# An example script to connect to Google using socket\n",
    "# programming in Python\n",
    "import socket # for socket\n",
    "import sys\n",
    " \n",
    "try:\n",
    "    s = socket.socket(socket.AF_INET, socket.SOCK_STREAM)\n",
    "    print (\"Socket successfully created\")\n",
    "except socket.error as err:\n",
    "    print (\"socket creation failed with error %s\" %(err))\n",
    " \n",
    "# default port for socket\n",
    "port = 80\n",
    " \n",
    "try:\n",
    "    host_ip = socket.gethostbyname('www.google.com')\n",
    "except socket.gaierror:\n",
    " \n",
    "    # this means could not resolve the host\n",
    "    print (\"there was an error resolving the host\")\n",
    " \n",
    "# connecting to the server\n",
    "s.connect((host_ip, port))\n",
    " \n",
    "print (\"the socket has successfully connected to google\")"
   ]
  },
  {
   "cell_type": "code",
   "execution_count": 1,
   "metadata": {},
   "outputs": [
    {
     "name": "stdout",
     "output_type": "stream",
     "text": [
      "Socket successfully created\n",
      "socket binded to 12345\n",
      "socket is listening\n"
     ]
    }
   ],
   "source": [
    "# first of all import the socket library\n",
    "import socket            \n",
    " \n",
    "# next create a socket object\n",
    "s = socket.socket()        \n",
    "print (\"Socket successfully created\")\n",
    " \n",
    "# reserve a port on your computer in our\n",
    "# case it is 12345 but it can be anything\n",
    "port = 12345               \n",
    " \n",
    "# Next bind to the port\n",
    "# we have not typed any ip in the ip field\n",
    "# instead we have inputted an empty string\n",
    "# this makes the server listen to requests\n",
    "# coming from other computers on the network\n",
    "s.bind(('', port))        \n",
    "print (\"socket binded to %s\" %(port))\n",
    " \n",
    "# put the socket into listening mode\n",
    "s.listen(5)    \n",
    "print (\"socket is listening\")           \n",
    " \n",
    "# a forever loop until we interrupt it or\n",
    "# an error occurs\n",
    "while True:\n",
    " \n",
    "# Establish connection with client.\n",
    "  c, addr = s.accept()    \n",
    "  print ('Got connection from', addr )\n",
    " \n",
    "  # send a thank you message to the client. encoding to send byte type.\n",
    "  c.send('Thank you for connecting'.encode())\n",
    " \n",
    "  # Close the connection with the client\n",
    "  c.close()\n",
    "   \n",
    "  # Breaking once connection closed\n",
    "  break"
   ]
  }
 ],
 "metadata": {
  "kernelspec": {
   "display_name": "Python 3",
   "language": "python",
   "name": "python3"
  },
  "language_info": {
   "codemirror_mode": {
    "name": "ipython",
    "version": 3
   },
   "file_extension": ".py",
   "mimetype": "text/x-python",
   "name": "python",
   "nbconvert_exporter": "python",
   "pygments_lexer": "ipython3",
   "version": "3.8.10"
  },
  "orig_nbformat": 4
 },
 "nbformat": 4,
 "nbformat_minor": 2
}
